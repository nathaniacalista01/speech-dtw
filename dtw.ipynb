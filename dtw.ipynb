{
 "cells": [
  {
   "cell_type": "code",
   "execution_count": 15,
   "metadata": {},
   "outputs": [],
   "source": [
    "from python_speech_features import mfcc, delta\n",
    "from python_speech_features import logfbank\n",
    "import scipy.io.wavfile as wav\n",
    "from scipy.spatial.distance import euclidean\n",
    "from fastdtw import fastdtw\n",
    "import numpy as np"
   ]
  },
  {
   "cell_type": "code",
   "execution_count": 16,
   "metadata": {},
   "outputs": [],
   "source": [
    "# Extract si mfcc dari file path\n",
    "def extract_mfcc(file_path):\n",
    "  rate,signal = wav.read(file_path)\n",
    "  mfcc_features = mfcc(signal, rate, numcep=13)\n",
    "  mfcc_delta = delta(mfcc_features, 2)\n",
    "  mfcc_delta_delta = delta(mfcc_delta, 2)\n",
    "  return np.hstack((mfcc_features, mfcc_delta, mfcc_delta_delta))\n"
   ]
  },
  {
   "cell_type": "code",
   "execution_count": 17,
   "metadata": {},
   "outputs": [],
   "source": [
    "# Hitung jarak dari 1 test ke 1 template\n",
    "def calculate_dtw(template, test):\n",
    "  distance, path = fastdtw(template, test, dist=euclidean)\n",
    "  return distance"
   ]
  },
  {
   "cell_type": "code",
   "execution_count": 18,
   "metadata": {},
   "outputs": [],
   "source": [
    "# Cocokin 1 data test ke templates\n",
    "def speech_recognition(test, templates):\n",
    "  distances = []\n",
    "  for vowel, template in templates.items():\n",
    "    distance = calculate_dtw(template, test)\n",
    "    distances.append((vowel, distance))\n",
    "  recognized_vowel = min(distances, key=lambda x: x[1])[0]\n",
    "  return recognized_vowel"
   ]
  },
  {
   "cell_type": "code",
   "execution_count": 19,
   "metadata": {},
   "outputs": [],
   "source": [
    "def evaluate_accuracy(test_data, templates):\n",
    "    correct = 0\n",
    "    total = 0\n",
    "    \n",
    "    for test_vowel, test_mfcc in test_data.items():\n",
    "       \n",
    "        recognized_vowel = speech_recognition(test_mfcc, templates)\n",
    "        print(\"Ini recognized_vowel dan test_vowel\", recognized_vowel, test_vowel)\n",
    "        if recognized_vowel == test_vowel:\n",
    "            correct += 1\n",
    "        total += 1\n",
    "    \n",
    "    accuracy = (correct / total) * 100\n",
    "    return accuracy\n"
   ]
  },
  {
   "cell_type": "code",
   "execution_count": 27,
   "metadata": {},
   "outputs": [
    {
     "name": "stderr",
     "output_type": "stream",
     "text": [
      "WARNING:root:frame length (1200) is greater than FFT size (512), frame will be truncated. Increase NFFT to avoid.\n",
      "WARNING:root:frame length (1200) is greater than FFT size (512), frame will be truncated. Increase NFFT to avoid.\n",
      "WARNING:root:frame length (1200) is greater than FFT size (512), frame will be truncated. Increase NFFT to avoid.\n",
      "WARNING:root:frame length (1200) is greater than FFT size (512), frame will be truncated. Increase NFFT to avoid.\n",
      "WARNING:root:frame length (1200) is greater than FFT size (512), frame will be truncated. Increase NFFT to avoid.\n",
      "WARNING:root:frame length (1200) is greater than FFT size (512), frame will be truncated. Increase NFFT to avoid.\n",
      "WARNING:root:frame length (1200) is greater than FFT size (512), frame will be truncated. Increase NFFT to avoid.\n",
      "WARNING:root:frame length (1200) is greater than FFT size (512), frame will be truncated. Increase NFFT to avoid.\n",
      "WARNING:root:frame length (1200) is greater than FFT size (512), frame will be truncated. Increase NFFT to avoid.\n",
      "WARNING:root:frame length (1200) is greater than FFT size (512), frame will be truncated. Increase NFFT to avoid.\n"
     ]
    },
    {
     "name": "stdout",
     "output_type": "stream",
     "text": [
      "Ini recognized_vowel dan test_vowel a a\n",
      "Ini recognized_vowel dan test_vowel d b\n",
      "Ini recognized_vowel dan test_vowel e c\n",
      "Ini recognized_vowel dan test_vowel d d\n",
      "Ini recognized_vowel dan test_vowel e e\n"
     ]
    },
    {
     "data": {
      "text/plain": [
       "60.0"
      ]
     },
     "execution_count": 27,
     "metadata": {},
     "output_type": "execute_result"
    }
   ],
   "source": [
    "template_folder = \"template-wav/\"\n",
    "test_folder = \"test-wav/\"\n",
    "\n",
    "templates = {\n",
    "    'a': extract_mfcc(template_folder + \"a.wav\"),\n",
    "    'b': extract_mfcc(template_folder + \"b.wav\"),\n",
    "    'c': extract_mfcc(template_folder + \"c.wav\"),\n",
    "    'd': extract_mfcc(template_folder + \"d.wav\"),\n",
    "    'e': extract_mfcc(template_folder + 'e.wav')\n",
    "}\n",
    "\n",
    "test_data = {\n",
    "    'a': extract_mfcc(test_folder + \"a.wav\"),\n",
    "    'b': extract_mfcc(test_folder + \"b.wav\"),\n",
    "    'c': extract_mfcc(test_folder + \"c.wav\"),\n",
    "    'd': extract_mfcc(test_folder + \"d.wav\"),\n",
    "    'e': extract_mfcc(test_folder + 'e.wav')\n",
    "}\n",
    "evaluate_accuracy(test_data, templates)\n"
   ]
  },
  {
   "cell_type": "code",
   "execution_count": null,
   "metadata": {},
   "outputs": [],
   "source": []
  }
 ],
 "metadata": {
  "kernelspec": {
   "display_name": "Python 3",
   "language": "python",
   "name": "python3"
  },
  "language_info": {
   "codemirror_mode": {
    "name": "ipython",
    "version": 3
   },
   "file_extension": ".py",
   "mimetype": "text/x-python",
   "name": "python",
   "nbconvert_exporter": "python",
   "pygments_lexer": "ipython3",
   "version": "3.12.5"
  }
 },
 "nbformat": 4,
 "nbformat_minor": 2
}
